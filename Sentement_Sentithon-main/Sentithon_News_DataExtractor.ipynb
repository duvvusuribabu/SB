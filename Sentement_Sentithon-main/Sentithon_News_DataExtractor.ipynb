{
  "nbformat": 4,
  "nbformat_minor": 0,
  "metadata": {
    "colab": {
      "provenance": [],
      "include_colab_link": true
    },
    "kernelspec": {
      "name": "python3",
      "display_name": "Python 3"
    },
    "language_info": {
      "name": "python"
    }
  },
  "cells": [
    {
      "cell_type": "markdown",
      "metadata": {
        "id": "view-in-github",
        "colab_type": "text"
      },
      "source": [
        "<a href=\"https://colab.research.google.com/github/BALU2000-creator/Sentement_Sentithon/blob/main/Sentithon_News_DataExtractor.ipynb\" target=\"_parent\"><img src=\"https://colab.research.google.com/assets/colab-badge.svg\" alt=\"Open In Colab\"/></a>"
      ]
    },
    {
      "cell_type": "code",
      "execution_count": null,
      "metadata": {
        "id": "xFWD8stHy94j"
      },
      "outputs": [],
      "source": [
        "!pip install newscatcher"
      ]
    },
    {
      "cell_type": "code",
      "source": [
        "News = {'message': 'Maximum sources displayed according to your plan is set to 100',\n",
        " 'sources': ['alpenhornnews.com',\n",
        "  'forbes.com',\n",
        "  'businessinsider.com',\n",
        "  'prnewswire.com',\n",
        "  'einpresswire.com',\n",
        "  'greenwichtime.com',\n",
        "  'sfchronicle.com',\n",
        "  'sfgate.com',\n",
        "  'theintelligencer.com',\n",
        "  'lakecountystar.com',\n",
        "  'mrt.com',\n",
        "  'sheltonherald.com',\n",
        "  'lmtonline.com',\n",
        "  'milfordmirror.com',\n",
        "  'newstimes.com',\n",
        "  'thetelegraph.com',\n",
        "  'beaumontenterprise.com',\n",
        "  'benzinga.com',\n",
        "  'middletownpress.com',\n",
        "  'ctpost.com',\n",
        "  'nhregister.com',\n",
        "  'thehour.com',\n",
        "  'timesunion.com',\n",
        "  'michigansthumb.com',\n",
        "  'ourmidland.com',\n",
        "  'registercitizen.com',\n",
        "  'stamfordadvocate.com',\n",
        "  'myjournalcourier.com',\n",
        "  'seattlepi.com',\n",
        "  'mysanantonio.com',\n",
        "  'chron.com',\n",
        "  'yahoo.com',\n",
        "  'fortune.com',\n",
        "  'seattletimes.com',\n",
        "  'wiltonbulletin.com',\n",
        "  'trumbulltimes.com',\n",
        "  'theridgefieldpress.com',\n",
        "  'apnews.com',\n",
        "  'khon2.com',\n",
        "  'kxan.com',\n",
        "  'bigrapidsnews.com',\n",
        "  'darientimes.com',\n",
        "  'wric.com',\n",
        "  'legacy.com',\n",
        "  'ncadvertiser.com',\n",
        "  'bloomberg.com',\n",
        "  'click2houston.com',\n",
        "  'compsmag.com',\n",
        "  'pahomepage.com',\n",
        "  'houstonchronicle.com',\n",
        "  'ksn.com',\n",
        "  'sandiegouniontribune.com',\n",
        "  'theheraldreview.com',\n",
        "  'wgno.com',\n",
        "  'cnn.com',\n",
        "  'fox4kc.com',\n",
        "  'ksat.com',\n",
        "  '8newsnow.com',\n",
        "  'blackenterprise.com',\n",
        "  'cbs42.com',\n",
        "  'fastcompany.com',\n",
        "  'myplainview.com',\n",
        "  'ourquadcities.com',\n",
        "  'wjbf.com',\n",
        "  'cnbc.com',\n",
        "  'manisteenews.com',\n",
        "  'wbtw.com',\n",
        "  'wnct.com',\n",
        "  'businessjournaldaily.com',\n",
        "  'businessrecord.com',\n",
        "  'conchovalleyhomepage.com',\n",
        "  'globenewswire.com',\n",
        "  'inc.com',\n",
        "  'movieweb.com',\n",
        "  'mychamplainvalley.com',\n",
        "  'seekingalpha.com',\n",
        "  'wboy.com',\n",
        "  'wearegreenbay.com',\n",
        "  'wjhl.com',\n",
        "  'wspa.com',\n",
        "  'abc4.com',\n",
        "  'businessreport.com',\n",
        "  'clickondetroit.com',\n",
        "  'swoknews.com',\n",
        "  'wcia.com',\n",
        "  'broadwayworld.com',\n",
        "  'coindesk.com',\n",
        "  'fourstateshomepage.com',\n",
        "  'fox40.com',\n",
        "  'kfor.com',\n",
        "  'kget.com',\n",
        "  'kxnet.com',\n",
        "  'latimes.com',\n",
        "  'tastingtable.com',\n",
        "  'wgnradio.com',\n",
        "  'wpri.com',\n",
        "  'yourcentralvalley.com',\n",
        "  'clarksvillenow.com',\n",
        "  'deadline.com',\n",
        "  'expressnews.com',\n",
        "  'timesofindia',\n",
        "  'NDTV.com',\n",
        "  'indianexpress.com'\n",
        "  'thehindu.com',\n",
        "  'news18.com',\n",
        "  'thestatesman.com',\n",
        "  'telanganatoday.com',\n",
        "  'tribuneindia.com',\n",
        "  'opindia.com',\n",
        "  'english.jagran.com'],\n",
        " 'user_input': {'lang': ['en'], 'countries': ['US'], 'topic': 'business'}}"
      ],
      "metadata": {
        "id": "rfqNJqwT7AUP"
      },
      "execution_count": null,
      "outputs": []
    },
    {
      "cell_type": "code",
      "source": [
        "news = News['sources']"
      ],
      "metadata": {
        "id": "iDIdaGcf8fSW"
      },
      "execution_count": null,
      "outputs": []
    },
    {
      "cell_type": "code",
      "source": [
        "API_key = 'epYgP26P7dYJYRhlJx9w8JonINnpNJyQEaJVyR6vEsg'"
      ],
      "metadata": {
        "id": "yoneFwe0AX65"
      },
      "execution_count": null,
      "outputs": []
    },
    {
      "cell_type": "code",
      "source": [
        "import time\n",
        "import csv\n",
        "import os\n",
        "import json\n",
        "import requests\n",
        "import pandas\n",
        "\n",
        "base_url = 'https://api.newscatcherapi.com/v2/search'\n",
        "X_API_KEY = API_key\n",
        "headers = {'x-api-key': X_API_KEY}\n",
        "search_key_words = ['Atmanirbhar Bharat: Local Vocalist',\n",
        "'Digital India',\n",
        "'Covid-19 Booster Vaccination Shots',\n",
        "'recent Indian government initiative']\n",
        "params = {\n",
        "    'q': search_key_words[2],\n",
        "    'lang': 'en',\n",
        "    'to_rank': 10000,\n",
        "    'page_size': 100,\n",
        "    'page': 1\n",
        "    }\n",
        "response = requests.get(base_url, headers=headers, params=params)\n",
        "results = json.loads(response.text.encode())\n",
        "if response.status_code == 200:\n",
        "    print('Done')\n",
        "else:\n",
        "    print(results)\n",
        "    print('ERROR: API call failed.')"
      ],
      "metadata": {
        "colab": {
          "base_uri": "https://localhost:8080/"
        },
        "id": "WtEJL-qHAev8",
        "outputId": "e61488cc-2f27-4160-bc32-d063d15ac339"
      },
      "execution_count": null,
      "outputs": [
        {
          "output_type": "stream",
          "name": "stdout",
          "text": [
            "{'status': 'error', 'error_code': 'LimitReached', 'message': 'Monthly API calls limit reached: 50'}\n",
            "ERROR: API call failed.\n"
          ]
        }
      ]
    },
    {
      "cell_type": "code",
      "source": [
        "import pandas as pd\n",
        "pandas_table = pd.DataFrame(results['articles'])"
      ],
      "metadata": {
        "id": "1i8gt_0RA5H3"
      },
      "execution_count": null,
      "outputs": []
    },
    {
      "cell_type": "code",
      "source": [
        "all_news_articles = []\n",
        "params['page'] = 1\n",
        "while True:\n",
        "    time.sleep(1)\n",
        "    response = requests.get(base_url, headers=headers, params=params)\n",
        "    results = json.loads(response.text.encode())\n",
        "    if response.status_code == 200:\n",
        "        print(f'Done for page number => {params[\"page\"]}')\n",
        "        for i in results['articles']:\n",
        "            i['used_params'] = str(params)\n",
        "        all_news_articles.extend(results['articles'])\n",
        "        params['page'] += 1\n",
        "        if params['page'] > results['total_pages']:\n",
        "            print(\"All articles have been extracted\")\n",
        "            break\n",
        "        else:\n",
        "            print(f'Proceed extracting page number => {params[\"page\"]}')\n",
        "    else:\n",
        "        print(results)\n",
        "        print(f'ERROR: API call failed for page number => {params[\"page\"]}')\n",
        "        break\n",
        "\n",
        "print(f'Number of extracted articles => {str(len(all_news_articles))}')"
      ],
      "metadata": {
        "id": "vETEojXvBaQo"
      },
      "execution_count": null,
      "outputs": []
    },
    {
      "cell_type": "code",
      "source": [
        "field_names = list(all_news_articles[0].keys())\n",
        "with open('NewsExtractor_Digital India.csv', 'w', encoding=\"utf-8\", newline='') as csvfile:\n",
        "    writer = csv.DictWriter(csvfile, fieldnames=field_names, delimiter=\";\")\n",
        "    writer.writeheader()\n",
        "    writer.writerows(all_news_articles)"
      ],
      "metadata": {
        "id": "AtoThFxZBdpy"
      },
      "execution_count": null,
      "outputs": []
    },
    {
      "cell_type": "code",
      "source": [
        "all_news_articles[0].keys()  # Containing all fields"
      ],
      "metadata": {
        "colab": {
          "base_uri": "https://localhost:8080/"
        },
        "id": "fTCUXJunB6-4",
        "outputId": "e8ab44c1-6d7c-47a9-9f9f-c2c3a89d5720"
      },
      "execution_count": null,
      "outputs": [
        {
          "output_type": "execute_result",
          "data": {
            "text/plain": [
              "['title',\n",
              " 'author',\n",
              " 'published_date',\n",
              " 'published_date_precision',\n",
              " 'link',\n",
              " 'clean_url',\n",
              " 'excerpt',\n",
              " 'summary',\n",
              " 'rights',\n",
              " 'rank',\n",
              " 'topic',\n",
              " 'country',\n",
              " 'language',\n",
              " 'authors',\n",
              " 'media',\n",
              " 'is_opinion',\n",
              " 'twitter_account',\n",
              " '_score',\n",
              " '_id',\n",
              " 'used_params']"
            ]
          },
          "metadata": {},
          "execution_count": 28
        }
      ]
    }
  ]
}