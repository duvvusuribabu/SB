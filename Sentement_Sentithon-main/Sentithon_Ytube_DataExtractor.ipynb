{
  "nbformat": 4,
  "nbformat_minor": 0,
  "metadata": {
    "colab": {
      "provenance": [],
      "authorship_tag": "ABX9TyNhs8joBLI57elLCg1t48p0",
      "include_colab_link": true
    },
    "kernelspec": {
      "name": "python3",
      "display_name": "Python 3"
    },
    "language_info": {
      "name": "python"
    }
  },
  "cells": [
    {
      "cell_type": "markdown",
      "metadata": {
        "id": "view-in-github",
        "colab_type": "text"
      },
      "source": [
        "<a href=\"https://colab.research.google.com/github/BALU2000-creator/Sentement_Sentithon/blob/main/Sentithon_Ytube_DataExtractor.ipynb\" target=\"_parent\"><img src=\"https://colab.research.google.com/assets/colab-badge.svg\" alt=\"Open In Colab\"/></a>"
      ]
    },
    {
      "cell_type": "code",
      "source": [
        "!pip install yake"
      ],
      "metadata": {
        "id": "P-SmmqPoT8gc"
      },
      "execution_count": null,
      "outputs": []
    },
    {
      "cell_type": "code",
      "execution_count": null,
      "metadata": {
        "id": "PxT-NrtxNh1B"
      },
      "outputs": [],
      "source": [
        "!pip install youtube-search-python"
      ]
    },
    {
      "cell_type": "code",
      "source": [
        "search_key_words = ['Atmanirbhar Bharat: Local Vocalist',\n",
        "'Digital India',\n",
        "'Covid-19 Booster Vaccination Shots',\n",
        "'recent Indian government initiative']"
      ],
      "metadata": {
        "id": "NuyE8hvhGMYq"
      },
      "execution_count": 3,
      "outputs": []
    },
    {
      "cell_type": "code",
      "source": [
        "from youtubesearchpython import Search\n",
        "from youtubesearchpython import *\n",
        "from urllib import parse\n",
        "from tqdm import tqdm\n",
        "\n",
        "\n",
        "class y_tube():\n",
        "  def __init__(self, topic='Atmanirbhar Bharat: Local Vocalist', limit_to_search=20):\n",
        "    self.topic = topic\n",
        "    self.number_of_videos_to_search = limit_to_search\n",
        "    pass\n",
        "\n",
        "  def get_top_contents(self, topic):\n",
        "    number_of_videos_to_search =  self.number_of_videos_to_search\n",
        "    allSearch = Search(topic, limit = number_of_videos_to_search)\n",
        "    # period = {'year':1, 'month':1, 'weak':1}\n",
        "    top_contents = []\n",
        "    for v in allSearch.result()['result']:\n",
        "      if 'accessibility' in v.keys():\n",
        "        accessibility = v['accessibility']['title']\n",
        "        timers = 'seconds'\n",
        "        if 'seconds' not in accessibility:\n",
        "          timers = 'minutes'\n",
        "        number = accessibility[accessibility.find(timers)+8:].split()[0]\n",
        "        num = ''\n",
        "        for i in number:\n",
        "          if i!=',':\n",
        "            num+=i\n",
        "        try:\n",
        "          num = int(num)\n",
        "        except:\n",
        "          continue\n",
        "        top_contents.append((v['link'], num))\n",
        "      else:\n",
        "        continue\n",
        "    top_contents = list(sorted(top_contents, key = lambda x : x[1], reverse=True))  \n",
        "    return top_contents\n",
        "\n",
        "  def get_video_ids(self, topic):\n",
        "    video_IDs = []\n",
        "    top_contents = self.get_top_contents(topic)\n",
        "    for url in top_contents:\n",
        "      url_parsed = parse.urlparse(url[0])\n",
        "      qsl = parse.parse_qs(url_parsed.query)\n",
        "      video_IDs.append(qsl['v'][0])\n",
        "    return video_IDs\n",
        "\n",
        "  def get_comments_in_file(self, topic=None):\n",
        "    if topic==None:\n",
        "      topic = self.topic\n",
        "    all_comments = []\n",
        "    video_IDs = self.get_video_ids(topic)\n",
        "    f = open(topic+'.txt', 'w')\n",
        "\n",
        "    print(topic)\n",
        "    for video_id in tqdm(video_IDs):\n",
        "      try:\n",
        "        comments = Comments(video_id)\n",
        "      except:\n",
        "        continue\n",
        "      comments.comments[\"result\"][0]\n",
        "      for obj in comments.comments[\"result\"]:\n",
        "        f.write(obj['content'])\n",
        "        f.write('\\n')\n",
        "        # print(obj['content'])\n",
        "\n",
        "      while comments.hasMoreComments:\n",
        "          comments.getNextComments()\n",
        "          for obj in comments.comments[\"result\"]:\n",
        "            f.write(obj['content'])\n",
        "            f.write('\\n')"
      ],
      "metadata": {
        "id": "xDN_kl2_HJae"
      },
      "execution_count": 4,
      "outputs": []
    },
    {
      "cell_type": "code",
      "source": [
        "ytube = y_tube()"
      ],
      "metadata": {
        "id": "sQVFeX8ZKtZ8"
      },
      "execution_count": 5,
      "outputs": []
    },
    {
      "cell_type": "code",
      "source": [
        "for topic in search_key_words:\n",
        "  ytube.get_comments_in_file(topic)"
      ],
      "metadata": {
        "colab": {
          "base_uri": "https://localhost:8080/"
        },
        "id": "Q2OCll8PKzoZ",
        "outputId": "d8b54ba1-b2fd-47f9-a229-8b9fe337249a"
      },
      "execution_count": 6,
      "outputs": [
        {
          "output_type": "stream",
          "name": "stdout",
          "text": [
            "Atmanirbhar Bharat: Local Vocalist\n"
          ]
        },
        {
          "output_type": "stream",
          "name": "stderr",
          "text": [
            "100%|██████████| 20/20 [00:49<00:00,  2.49s/it]\n"
          ]
        }
      ]
    }
  ]
}